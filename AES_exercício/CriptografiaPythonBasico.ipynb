{
  "nbformat": 4,
  "nbformat_minor": 0,
  "metadata": {
    "colab": {
      "provenance": []
    },
    "kernelspec": {
      "name": "python3",
      "display_name": "Python 3"
    },
    "language_info": {
      "name": "python"
    }
  },
  "cells": [
    {
      "cell_type": "markdown",
      "source": [
        "# Criptografia Simétrica\n",
        "\n",
        "Na criptografia simétrica, o mesmo segredo (chave) é usado tanto para criptografar quanto para descriptografar dados.\n",
        "\n",
        "#### Principais Características:\n",
        "\n",
        "- **Chave Única:** Apenas uma chave é utilizada para criptografia e descriptografia.\n",
        "- **Velocidade:** Geralmente é mais rápida do que a criptografia assimétrica, o que a torna adequada para grandes volumes de dados.\n",
        "- **Desafios de Compartilhamento:** O principal desafio é o gerenciamento e a segurança da chave secreta, especialmente quando muitos usuários estão envolvidos.\n",
        "- **Exemplos de Algoritmos:**\n",
        " - AES (Advanced Encryption Standard),\n",
        " - DES (Data Encryption Standard),\n",
        " - 3DES (Triple DES).\n",
        "\n",
        "#### Aplicações Comuns:\n",
        "\n",
        "- Criptografia de dados em repouso e em trânsito.\n",
        "- Proteção de comunicações entre sistemas.\n",
        "- Armazenamento seguro de dados sensíveis.\n"
      ],
      "metadata": {
        "id": "nXyfn0Pl9V-9"
      }
    },
    {
      "cell_type": "markdown",
      "source": [
        "# Criptografia Simétrica em Python\n",
        "\n",
        "Ao contrário de algumas outras linguagens de programação, o Python não possui uma API nativa de criptografia. Vários frameworks de código aberto preenchem essa lacuna. Os pacotes de criptografia mais populares em Python são `cryptography` e `pycryptodome`.\n",
        "\n",
        "Nas aulas vou utilizar a `cryptography`.\n",
        "\n",
        "docs: https://cryptography.io/en/latest/hazmat/primitives/symmetric-encryption/\n",
        "\n",
        "Instalação: pip install cryptography\n",
        "\n"
      ],
      "metadata": {
        "id": "JSLZEc2H9WBt"
      }
    },
    {
      "cell_type": "code",
      "source": [
        "# No Colab já está instalada!\n",
        "# !pip install cryptography"
      ],
      "metadata": {
        "id": "S9zyIDWLAGu_"
      },
      "execution_count": null,
      "outputs": []
    },
    {
      "cell_type": "markdown",
      "source": [
        "#### Exemplo utilizado o algoritmo AES e o modo CBC (Cipher Block Chaining)"
      ],
      "metadata": {
        "id": "Pl_jIlZkIC-Y"
      }
    },
    {
      "cell_type": "code",
      "source": [
        "from cryptography.hazmat.backends import default_backend\n",
        "from cryptography.hazmat.primitives.ciphers import Cipher, algorithms, modes\n",
        "import secrets\n",
        "\n",
        "# Para o modo CBC é necessário o initialization vector (IV)\n",
        "#iv = secrets.token_bytes(16)\n",
        "iv = bytes(16)\n",
        "print(\"IV (hex):\", iv.hex())\n",
        "print(\"Tamanho do IV:\", len(iv), \"byte\" )\n",
        "print(\"\")\n",
        "\n",
        "\n",
        "# Define a chave (deve ter 128, 192 ou 256 bits para AES)\n",
        " # chave de 128 bits - 16 bytes\n",
        "key = bytes([1, 1, 1, 1, 2, 2, 2, 2, 3, 3, 3, 3, 4, 4, 4, 4])\n",
        "#key = b'a chave de 128, 192 ou 256 bits!'\n",
        "\n",
        "# bytes (n mutavel) ou bytearray (mutavel)\n",
        "# bytearray permite modificar o vetor de bytes depois de criado,\n",
        "# enquanto bytes cria vetores de bytes imutáveis.\n",
        "\n",
        "\n",
        "print(\"Chave (hex):\", key.hex())\n",
        "print(\"Tamanho da chave:\", len(key), \"bytes (\",len(key)*8,\" bits )\" )\n",
        "print(\"\")\n",
        "\n",
        "\n",
        "# Cria um cifrador AES no modo CBC\n",
        "cipher = Cipher(\n",
        "    algorithms.AES(key),       # AES\n",
        "    modes.CBC(iv),             # Modo CBC com IV\n",
        "    backend=default_backend()\n",
        ")\n",
        "\n",
        "\n",
        "# Cria um objeto de criptografia\n",
        "encryptor = cipher.encryptor()\n",
        "\n",
        "# Define o texto em claro (deve ter o tamanho do bloco do AES, que é 16 bytes)\n",
        "plaintext = b'0123456789ABCDEF'\n",
        "print(\"Plaintext (hex): \", plaintext.hex())\n",
        "print(\"Tamanho do texto:\", len(plaintext), \"bytes\")\n",
        "print(\"\")\n",
        "\n",
        "# Criptografa o texto em claro\n",
        "ciphertext = encryptor.update(plaintext) + encryptor.finalize()\n",
        "\n",
        "print(\"Ciphertext (hex): \", ciphertext.hex())\n",
        "print(\"Tamanho do texto cifrado:\", len(ciphertext), \"bytes\")"
      ],
      "metadata": {
        "id": "p0IS4hLjICKL",
        "colab": {
          "base_uri": "https://localhost:8080/"
        },
        "outputId": "661284f7-360a-455b-999e-e9c9ec699fbc"
      },
      "execution_count": null,
      "outputs": [
        {
          "output_type": "stream",
          "name": "stdout",
          "text": [
            "IV (hex): 00000000000000000000000000000000\n",
            "Tamanho do IV: 16 byte\n",
            "\n",
            "Chave (hex): 01010101020202020303030304040404\n",
            "Tamanho da chave: 16 bytes ( 128  bits )\n",
            "\n",
            "Plaintext (hex):  30313233343536373839414243444546\n",
            "Tamanho do texto: 16 bytes\n",
            "\n",
            "Ciphertext (hex):  acfb0bd63ed23c43913cfea4bdcea766\n",
            "Tamanho do texto cifrado: 16 bytes\n"
          ]
        }
      ]
    },
    {
      "cell_type": "markdown",
      "source": [
        "#### Sobre o backend: ` backend=default_backend()`\n",
        "\n",
        "**`default_backend():`**\n",
        "Esta função retorna o backend padrão fornecido pela biblioteca cryptography.\n",
        "Oermite que o pacote cryptography seja flexível e extensível, já que diferentes backends podem ser implementados para diferentes necessidades."
      ],
      "metadata": {
        "id": "TFU3ayJ9OSTB"
      }
    },
    {
      "cell_type": "markdown",
      "source": [
        "#### Decifrando"
      ],
      "metadata": {
        "id": "TuW31gKpWQc8"
      }
    },
    {
      "cell_type": "code",
      "source": [
        "# Cria um objeto de criptografia\n",
        "# cipher já foi criado antes!\n",
        "decryptor = cipher.decryptor()\n",
        "\n",
        "# Descriptografando o texto cifrado\n",
        "plaintext_dec = decryptor.update(ciphertext) + decryptor.finalize()\n",
        "\n",
        "print(plaintext_dec.hex())"
      ],
      "metadata": {
        "id": "duDhQ5TvWO89",
        "colab": {
          "base_uri": "https://localhost:8080/"
        },
        "outputId": "bda445ad-1745-459e-8aa6-bbc6cc7ab9ff"
      },
      "execution_count": null,
      "outputs": [
        {
          "output_type": "stream",
          "name": "stdout",
          "text": [
            "30313233343536373839414243444546\n"
          ]
        }
      ]
    },
    {
      "cell_type": "markdown",
      "source": [
        "**encryptor.update(plaintext):** Criptografa o texto em claro, mas pode não processar todos os dados se o tamanho do texto não for um múltiplo do tamanho do bloco.\n",
        "\n",
        "\n",
        "**encryptor.finalize()**: Finaliza o processo de criptografia, aplicando o preenchimento necessário e retornando quaisquer dados adicionais que precisam ser adicionados ao texto cifrado."
      ],
      "metadata": {
        "id": "H6uplo5CVRzG"
      }
    },
    {
      "cell_type": "markdown",
      "source": [
        "#### E se o tamanho do texto não for múltiplo do tamanho do bloco? Padding!\n",
        "\n"
      ],
      "metadata": {
        "id": "gcK2M2khVtto"
      }
    },
    {
      "cell_type": "code",
      "source": [
        "from cryptography.hazmat.backends import default_backend\n",
        "from cryptography.hazmat.primitives.ciphers import Cipher, algorithms, modes\n",
        "from cryptography.hazmat.primitives import padding\n",
        "import secrets\n",
        "\n",
        "# Para o modo CBC é necessário o initialization vector (IV)\n",
        "#iv = secrets.token_bytes(16)\n",
        "iv = bytes(16)\n",
        "print(\"IV (hex):\", iv.hex())\n",
        "print(\"Tamanho do IV:\", len(iv), \"byte\" )\n",
        "print(\"\")\n",
        "\n",
        "\n",
        "# Define a chave (deve ter 128, 192 ou 256 bits para AES)\n",
        "key = bytes([1, 1, 1, 1, 2, 2, 2, 2, 3, 3, 3, 3, 4, 4, 4, 4]) # chave de 128 bits - 8 bytes\n",
        "#key = b'a chave de 128, 192 ou 256 bits!'\n",
        "\n",
        "# bytes ou bytearray?\n",
        "# bytearray permite modificar o vetor de bytes depois de criado, enquanto bytes cria vetores de bytes imutáveis.\n",
        "\n",
        "\n",
        "print(\"Chave (hex):\", key.hex())\n",
        "print(\"Tamanho da chave:\", len(key), \"bytes (\",len(key)*8,\" bits )\" )\n",
        "print(\"\")\n",
        "\n",
        "\n",
        "# Cria um cifrador AES no modo CBC\n",
        "cipher = Cipher(\n",
        "    algorithms.AES(key),       # AES\n",
        "    modes.CBC(iv),             # Modo CBC com IV\n",
        "    backend=default_backend()\n",
        ")\n",
        "\n",
        "\n",
        "# Cria um objeto de criptografia\n",
        "encryptor = cipher.encryptor()\n",
        "\n",
        "# Define o texto em claro (deve ter o tamanho do bloco do AES, que é 16 bytes)\n",
        "# Note que se estiver sem faltar nenhum ele vai colocar padding, pois se tem paggin tem padding!!!!\n",
        "# pois se não faltar e terminar em 01 faz oq? se não tem padding para caso não falte padding?\n",
        "plaintext = b'01234567891234'\n",
        "print(\"Plaintext (hex): \", plaintext.hex())\n",
        "print(\"Tamanho do texto:\", len(plaintext), \"bytes\")\n",
        "print(\"\")\n",
        "\n",
        "\n",
        "# Preenchimento do texto em claro para ajustar ao tamanho do bloco\n",
        "padder = padding.PKCS7(algorithms.AES.block_size).padder()\n",
        "padded_plaintext = padder.update(plaintext) + padder.finalize()\n",
        "\n",
        "print(\"Plaintext com padding (hex): \", padded_plaintext.hex())\n",
        "print(\"Tamanho do texto com Padding:\", len(padded_plaintext), \"bytes\")\n",
        "print(\"\")\n",
        "\n",
        "\n",
        "# Criptografa o texto em claro\n",
        "ciphertext = encryptor.update(padded_plaintext) + encryptor.finalize()\n",
        "\n",
        "print(\"Ciphertext (hex): \", ciphertext.hex())\n",
        "print(\"Tamanho do texto cifrado:\", len(ciphertext), \"bytes\")"
      ],
      "metadata": {
        "id": "IqqxSXQzVrpJ",
        "colab": {
          "base_uri": "https://localhost:8080/"
        },
        "outputId": "d46f252e-d533-4a6d-c160-e1f196e6b284"
      },
      "execution_count": null,
      "outputs": [
        {
          "output_type": "stream",
          "name": "stdout",
          "text": [
            "IV (hex): 00000000000000000000000000000000\n",
            "Tamanho do IV: 16 byte\n",
            "\n",
            "Chave (hex): 01010101020202020303030304040404\n",
            "Tamanho da chave: 16 bytes ( 128  bits )\n",
            "\n",
            "Plaintext (hex):  30313233343536373839313233343541\n",
            "Tamanho do texto: 16 bytes\n",
            "\n",
            "Plaintext com padding (hex):  3031323334353637383931323334354110101010101010101010101010101010\n",
            "Tamanho do texto com Padding: 32 bytes\n",
            "\n",
            "Ciphertext (hex):  702d7cdc646a5e17fbaeec401d0784129ee6f654f27e3b0b5d268660f284f559\n",
            "Tamanho do texto cifrado: 32 bytes\n"
          ]
        }
      ]
    },
    {
      "cell_type": "markdown",
      "source": [
        "#### Decifrando e ajustando padding"
      ],
      "metadata": {
        "id": "oiiz2HMWX0vv"
      }
    },
    {
      "cell_type": "code",
      "source": [
        "# Cria um objeto de criptografia\n",
        "# cipher já foi criado antes!\n",
        "decryptor = cipher.decryptor()\n",
        "\n",
        "# Descriptografando o texto cifrado\n",
        "plaintext_dec = decryptor.update(ciphertext) + decryptor.finalize()\n",
        "\n",
        "print(\"Plaintext com padding (hex): \", plaintext_dec.hex())\n",
        "\n",
        "# Remoção do preenchimento\n",
        "unpadder = padding.PKCS7(algorithms.AES.block_size).unpadder()\n",
        "plaintext_unpadded = unpadder.update(plaintext_dec) + unpadder.finalize()\n",
        "\n",
        "print(\"Plaintext (hex): \", plaintext_unpadded.hex())\n",
        "\n"
      ],
      "metadata": {
        "id": "ZRIuqUqlSkb9",
        "colab": {
          "base_uri": "https://localhost:8080/"
        },
        "outputId": "c8f1a696-9597-4dce-baff-a3e1284503fd"
      },
      "execution_count": null,
      "outputs": [
        {
          "output_type": "stream",
          "name": "stdout",
          "text": [
            "Plaintext com padding (hex):  30313233343536373839060606060606\n",
            "Plaintext (hex):  30313233343536373839\n"
          ]
        }
      ]
    },
    {
      "cell_type": "markdown",
      "source": [
        "#### E se o padding estiver incorreto?"
      ],
      "metadata": {
        "id": "iWd3vHrianK5"
      }
    },
    {
      "cell_type": "code",
      "source": [
        "# Cria um objeto de criptografia\n",
        "# cipher já foi criado antes!\n",
        "decryptor = cipher.decryptor()\n",
        "\n",
        "# Descriptografando o texto cifrado\n",
        "plaintext_dec = decryptor.update(ciphertext) + decryptor.finalize()\n",
        "\n",
        "# Modificando o Padding\n",
        "plaintext_dec= bytearray(plaintext_dec)\n",
        "plaintext_dec[15] = 0\n",
        "\n",
        "print(\"Plaintext com padding (hex): \", plaintext_dec.hex())\n",
        "\n",
        "# Remoção do preenchimento\n",
        "unpadder = padding.PKCS7(algorithms.AES.block_size).unpadder()\n",
        "plaintext_unpadded = unpadder.update(plaintext_dec) + unpadder.finalize()\n",
        "\n",
        "print(\"Plaintext (hex): \", plaintext_unpadded.hex())\n"
      ],
      "metadata": {
        "id": "TNU6b3CUZTeC"
      },
      "execution_count": null,
      "outputs": []
    },
    {
      "cell_type": "markdown",
      "source": [
        "## Exemplo para testes"
      ],
      "metadata": {
        "id": "4U3oq_TLbfqG"
      }
    },
    {
      "cell_type": "code",
      "source": [
        "from cryptography.hazmat.backends import default_backend\n",
        "from cryptography.hazmat.primitives.ciphers import Cipher, algorithms, modes\n",
        "from cryptography.hazmat.primitives import padding\n",
        "\n",
        "def encrypt_aes(key: bytes, iv: bytes, plaintext: bytes) -> bytes:\n",
        "    \"\"\"\n",
        "    Criptografa o texto usando AES no modo CBC.\n",
        "\n",
        "    :param key: Chave de criptografia de 16, 24 ou 32 bytes.\n",
        "    :param iv: Vetor de inicialização de 16 bytes.\n",
        "    :param plaintext: Texto em claro a ser criptografado.\n",
        "    :return: Texto cifrado.\n",
        "    \"\"\"\n",
        "    # Criação do cifrador AES no modo CBC\n",
        "    cipher = Cipher(\n",
        "        algorithms.AES(key),\n",
        "        modes.CBC(iv),\n",
        "        backend=default_backend()\n",
        "    )\n",
        "\n",
        "    # Criando o objeto de criptografia\n",
        "    encryptor = cipher.encryptor()\n",
        "\n",
        "    # Preenchimento do texto em claro para ajustar ao tamanho do bloco\n",
        "    padder = padding.PKCS7(algorithms.AES.block_size).padder()\n",
        "    padded_plaintext = padder.update(plaintext) + padder.finalize()\n",
        "\n",
        "    # Criptografando o texto em claro\n",
        "    ciphertext = encryptor.update(padded_plaintext) + encryptor.finalize()\n",
        "\n",
        "    return ciphertext\n",
        "\n",
        "def decrypt_aes(key: bytes, iv: bytes, ciphertext: bytes) -> bytes:\n",
        "    \"\"\"\n",
        "    Descriptografa o texto cifrado usando AES no modo CBC.\n",
        "\n",
        "    :param key: Chave de criptografia de 16, 24 ou 32 bytes.\n",
        "    :param iv: Vetor de inicialização de 16 bytes.\n",
        "    :param ciphertext: Texto cifrado a ser descriptografado.\n",
        "    :return: Texto em claro.\n",
        "    \"\"\"\n",
        "    # Criação do cifrador AES no modo CBC\n",
        "    cipher = Cipher(\n",
        "        algorithms.AES(key),\n",
        "        modes.CBC(iv),\n",
        "        backend=default_backend()\n",
        "    )\n",
        "\n",
        "    # Criando o objeto de descriptografia\n",
        "    decryptor = cipher.decryptor()\n",
        "\n",
        "    # Descriptografando o texto cifrado\n",
        "    padded_plaintext = decryptor.update(ciphertext) + decryptor.finalize()\n",
        "\n",
        "    # Remoção do preenchimento\n",
        "    unpadder = padding.PKCS7(algorithms.AES.block_size).unpadder()\n",
        "    plaintext = unpadder.update(padded_plaintext) + unpadder.finalize()\n",
        "\n",
        "    return plaintext\n",
        "\n",
        "##################\n",
        "# Exemplo de uso #\n",
        "##################\n",
        "\n",
        "key = b'0123456789abcdee'  # Chave de 16 bytes\n",
        "iv = b'1234567890abcdef'  # IV de 16 bytes\n",
        "plaintext = b'Hello World!'  # Texto em claro\n",
        "print(\"Texto em claro (hex):\", plaintext.hex())\n",
        "\n",
        "\n",
        "# Criptografar\n",
        "ciphertext = encrypt_aes(key, iv, plaintext)\n",
        "print(\"Texto cifrado (hex):\", ciphertext.hex())\n",
        "\n",
        "# Descriptografar\n",
        "decrypted_text = decrypt_aes(key, iv, ciphertext)\n",
        "print(\"Texto descriptografado (hex):\", decrypted_text.hex())\n",
        "print(\"Texto descriptografado (String):\", decrypted_text.decode())"
      ],
      "metadata": {
        "id": "EGuFKfwnbkqs",
        "colab": {
          "base_uri": "https://localhost:8080/"
        },
        "outputId": "003e3ec4-6bfd-4d74-f800-c478dadda017"
      },
      "execution_count": null,
      "outputs": [
        {
          "output_type": "stream",
          "name": "stdout",
          "text": [
            "Texto em claro (hex): 48656c6c6f20576f726c6421\n",
            "Texto cifrado (hex): 9d390be35c1798a9c0a181caa86758b9\n",
            "Texto descriptografado (hex): 48656c6c6f20576f726c6421\n",
            "Texto descriptografado (String): Hello World!\n"
          ]
        }
      ]
    },
    {
      "cell_type": "markdown",
      "source": [
        "# Exercício 1: Cifrando e Decifrando Arquivos com Cabeçalho Personalizado\n",
        "\n",
        "**Objetivo:**  \n",
        "Criar um programa em Python capaz de criptografar e descriptografar arquivos, utilizando AES no modo CBC e um cabeçalho de 32 bytes com metadados sobre o arquivo cifrado.\n",
        "\n",
        "---\n",
        "\n",
        "## Instruções\n",
        "\n",
        "### 1. Cabeçalho do Arquivo Cifrado (32 bytes)\n",
        "\n",
        "O início do arquivo criptografado deve conter um cabeçalho com os seguintes campos:\n",
        "\n",
        "| Campo         | Tamanho (bytes) | Descrição                                                                 |\n",
        "|---------------|-----------------|---------------------------------------------------------------------------|\n",
        "| Identificador | 2               | Deve conter uma sequência fixa, ex: `b'ED'`, para indicar um arquivo cifrado |\n",
        "| Versão        | 1               | Versão do formato de cabeçalho (ex: `1`)                                  |\n",
        "| Algoritmo     | 1               | `1` para AES (reservado para futuras extensões com outros algoritmos)     |\n",
        "| Modo          | 1               | `1` para modo CBC                                                         |\n",
        "| IV            | 16              | Vetor de inicialização (gerado aleatoriamente na criptografia)           |\n",
        "| Reserved      | 11              | Reservado para uso futuro (preencher com `0x00`)                          |\n",
        "\n",
        "---\n",
        "\n",
        "### 2. Etapas do Programa (Encrypt)\n",
        "\n",
        "1. Solicitar ao usuário o caminho de um arquivo para criptografar.  \n",
        "2. Gerar uma chave de 256 bits (pode ser fixa ou pedida ao usuário).  \n",
        "3. Gerar o IV (Initialization Vector) aleatoriamente.  \n",
        "4. Criar o cabeçalho conforme especificado.  \n",
        "5. Criptografar o conteúdo do arquivo usando AES-CBC.  \n",
        "6. Escrever o cabeçalho + dados criptografados em um novo arquivo.\n",
        "7. Salvar o arquivo concatenando \".enc\" no final do nome do arquivo.\n",
        "\n",
        "---\n",
        "\n",
        "### 3. Descriptografia (Decrypt)\n",
        "\n",
        "1. Ler o cabeçalho do arquivo cifrado.  \n",
        "2. Verificar se o identificador, versão e algoritmo estão corretos (validação).  \n",
        "3. Extrair o IV.  \n",
        "4. Usar a chave (a mesma da criptografia) para decifrar o conteúdo.  \n",
        "5. Salvar o arquivo original.\n",
        "\n",
        "---\n",
        "\n",
        "## Dicas\n",
        "\n",
        "- Use o pacote `cryptography` com `Cipher`, `algorithms.AES`, `modes.CBC` e `padding.PKCS7`.\n",
        "- Lembre-se de aplicar e remover o padding adequadamente.\n",
        "- Para escrever e ler os campos binários, use a biblioteca `struct` ou concatene os bytes com cuidado.\n"
      ],
      "metadata": {
        "id": "s29xjAc3hSAg"
      }
    },
    {
      "cell_type": "code",
      "source": [],
      "metadata": {
        "id": "UHJOo0JYhW7k"
      },
      "execution_count": null,
      "outputs": []
    },
    {
      "cell_type": "markdown",
      "source": [
        "# Exercício 2: Gerando Arquivo de Metadados para Verificação de Integridade\n",
        "\n",
        "**Objetivo:**  \n",
        "Criar um programa em Python que não altera o arquivo original, mas gera um **arquivo de metadados** (48 bytes) contendo um cabeçalho e um fingerprint de 16 bytes (último bloco do AES‑CBC) para verificar se o arquivo original foi modificado.\n",
        "\n",
        "---\n",
        "\n",
        "## Instruções\n",
        "\n",
        "### 1. Cabeçalho do Arquivo de Metadados (48 bytes)\n",
        "\n",
        "O arquivo de metadados deve conter exatamente 48 bytes, dispostos assim:\n",
        "\n",
        "| Campo         | Tamanho (bytes) | Descrição                                                                                 |\n",
        "|---------------|-----------------|-------------------------------------------------------------------------------------------|\n",
        "| Identificador | 2               | Sequência fixa, ex: `b'CF'`, para indicar “Crypto Fingerprint”                            |\n",
        "| Versão        | 1               | Versão do formato (ex: `1`)                                                               |\n",
        "| Algoritmo     | 1               | `1` para AES                                                                              |\n",
        "| Modo          | 1               | `1` para CBC                                                                              |\n",
        "| IV            | 16              | Vetor de inicialização (aleatório)                                                        |\n",
        "| Fingerprint   | 16              | Último bloco do ciphertext gerado a partir do arquivo original (garante integridade)      |\n",
        "| Reserved      | 11              | Reservado para uso futuro (preencher com `0x00`)                                          |\n",
        "\n",
        "---\n",
        "\n",
        "### 2. Geração do Arquivo de Metadados\n",
        "\n",
        "1. **Entrada do Usuário**  \n",
        "   - Solicitar o caminho do arquivo original a ser protegido.\n",
        "\n",
        "2. **Chave e IV**  \n",
        "   - Gerar (ou solicitar) uma chave AES de 256 bits.  \n",
        "   - Gerar um IV aleatório de 16 bytes.\n",
        "\n",
        "3. **Cálculo do Fingerprint**  \n",
        "   - Ler todo o conteúdo do arquivo original.  \n",
        "   - Aplicar AES‑CBC com padding PKCS7 sobre esse conteúdo **somente em memória** (não salvar o ciphertext em disco).  \n",
        "   - Extrair os **últimos 16 bytes** do ciphertext gerado como fingerprint.\n",
        "\n",
        "4. **Montagem do Cabeçalho**  \n",
        "   - Empacotar, em ordem:  \n",
        "     1. Identificador (2 bytes)  \n",
        "     2. Versão (1 byte)  \n",
        "     3. Algoritmo (1 byte)  \n",
        "     4. Modo (1 byte)  \n",
        "     5. IV (16 bytes)  \n",
        "     6. Fingerprint (16 bytes)  \n",
        "     7. Reserved (11 bytes de `0x00`)\n",
        "\n",
        "5. **Gravação do Arquivo de Metadados**  \n",
        "   - Salvar esses 48 bytes em um novo arquivo (por exemplo, com extensão `.meta`).\n",
        "\n",
        "---\n",
        "\n",
        "### 3. Verificação de Integridade\n",
        "\n",
        "1. **Leitura do Arquivo de Metadados**  \n",
        "   - Extrair cada campo do cabeçalho e validar.\n",
        "\n",
        "2. **Reprodução do Fingerprint**  \n",
        "   - Ler o mesmo arquivo original.  \n",
        "   - Executar AES‑CBC in‑memory com a chave e IV extraídos.  \n",
        "   - Extrair os últimos 16 bytes do ciphertext.\n",
        "\n",
        "3. **Comparação**  \n",
        "   - Se o fingerprint recalculado for **igual** ao fingerprint armazenado no cabeçalho, o arquivo **não foi alterado**.  \n",
        "   - Caso contrário, sinalizar “Arquivo modificado ou corrompido”.\n",
        "\n",
        "---\n",
        "\n",
        "## Dicas\n",
        "- Use `cryptography` para `Cipher`, `algorithms.AES`, `modes.CBC` e `padding.PKCS7`.  \n",
        "\n"
      ],
      "metadata": {
        "id": "lm5EsC88hXBt"
      }
    },
    {
      "cell_type": "code",
      "source": [],
      "metadata": {
        "id": "CtHbWiUGhblq"
      },
      "execution_count": null,
      "outputs": []
    },
    {
      "cell_type": "code",
      "source": [
        "# Define campos\n",
        "IDENT       = b'CF'                 # 2 bytes\n",
        "VERSION     = bytes([0x01])         # 1 byte\n",
        "ALGO        = bytes([0x01])         # 1 byte (AES)\n",
        "MODE        = bytes([0x01])         # 1 byte (CBC)\n",
        "IV          = bytes(range(0x00, 0x10))     # 16 bytes: 0x00..0x0F\n",
        "FINGERPRINT = bytes(range(0x10, 0x20))     # 16 bytes: 0x10..0x1F\n",
        "RESERVED    = bytes(11)             # 11 bytes de 0x00\n",
        "\n",
        "# Monta o header (48 bytes)\n",
        "header = bytearray()\n",
        "header += IDENT\n",
        "header += VERSION\n",
        "header += ALGO\n",
        "header += MODE\n",
        "header += IV\n",
        "header += FINGERPRINT\n",
        "header += RESERVED\n",
        "\n",
        "# Salva no arquivo\n",
        "with open(\"arquivo.meta\", \"wb\") as f:\n",
        "    f.write(header)"
      ],
      "metadata": {
        "id": "GMlqy5Zphd9W"
      },
      "execution_count": null,
      "outputs": []
    },
    {
      "cell_type": "code",
      "source": [
        "# Lê do arquivo e separa os campos com slicing\n",
        "with open(\"arquivo.meta\", \"rb\") as f:\n",
        "    data = f.read(48)\n",
        "\n",
        "ident      = data[0:2]        # 2 bytes\n",
        "version    = data[2]          # 1 byte\n",
        "algo       = data[3]          # 1 byte\n",
        "mode       = data[4]          # 1 byte\n",
        "iv         = data[5:21]       # 16 bytes\n",
        "fingerprint= data[21:37]      # 16 bytes\n",
        "reserved   = data[37:48]      # 11 bytes\n",
        "\n",
        "# ✅ Imprime os dados\n",
        "print(\"Identificador:\", ident, ident.decode())\n",
        "print(\"Versão:\", version)\n",
        "print(\"Algoritmo:\", algo)\n",
        "print(\"Modo:\", mode)\n",
        "print(\"IV:\", iv.hex())\n",
        "print(\"Fingerprint:\", fingerprint.hex())\n",
        "print(\"Reserved:\", reserved.hex())"
      ],
      "metadata": {
        "colab": {
          "base_uri": "https://localhost:8080/"
        },
        "id": "6VQMC8PphfGS",
        "outputId": "4d8bb32f-3b8d-4349-a787-f6be288346f8"
      },
      "execution_count": null,
      "outputs": [
        {
          "output_type": "stream",
          "name": "stdout",
          "text": [
            "Identificador: b'CF' CF\n",
            "Versão: 1\n",
            "Algoritmo: 1\n",
            "Modo: 1\n",
            "IV: 000102030405060708090a0b0c0d0e0f\n",
            "Fingerprint: 101112131415161718191a1b1c1d1e1f\n",
            "Reserved: 0000000000000000000000\n"
          ]
        }
      ]
    }
  ]
}