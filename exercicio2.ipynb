{
 "cells": [
  {
   "cell_type": "code",
   "id": "initial_id",
   "metadata": {
    "collapsed": true,
    "ExecuteTime": {
     "end_time": "2025-06-04T19:55:18.141318Z",
     "start_time": "2025-06-04T19:55:18.137621Z"
    }
   },
   "source": [
    "from cryptography.hazmat.backends import default_backend\n",
    "from cryptography.hazmat.primitives.ciphers import Cipher, algorithms, modes\n",
    "from cryptography.hazmat.primitives import padding\n",
    "import secrets\n",
    "import os\n"
   ],
   "outputs": [],
   "execution_count": 22
  },
  {
   "metadata": {
    "ExecuteTime": {
     "end_time": "2025-06-04T19:55:19.431864Z",
     "start_time": "2025-06-04T19:55:19.428359Z"
    }
   },
   "cell_type": "code",
   "source": [
    "def encrypt_aes(key: bytes, iv: bytes, plaintext: bytes) -> bytes:\n",
    "    cipher = Cipher(\n",
    "        algorithms.AES(key),\n",
    "        modes.CBC(iv),\n",
    "        backend=default_backend()\n",
    "    )\n",
    "    encryptor = cipher.encryptor()\n",
    "    padder = padding.PKCS7(algorithms.AES.block_size).padder()\n",
    "    padded_plaintext = padder.update(plaintext) + padder.finalize()\n",
    "    ciphertext = encryptor.update(padded_plaintext) + encryptor.finalize()\n",
    "    return ciphertext"
   ],
   "id": "d369922d1bc7a31b",
   "outputs": [],
   "execution_count": 23
  },
  {
   "metadata": {
    "ExecuteTime": {
     "end_time": "2025-06-04T19:55:22.856527Z",
     "start_time": "2025-06-04T19:55:22.852478Z"
    }
   },
   "cell_type": "code",
   "source": [
    "def gerar_metadata(arquivo_original: str, chave: bytes, arquivo_metadata: str = None) -> str:\n",
    "    with open(arquivo_original, \"rb\") as f:\n",
    "        conteudo = f.read()\n",
    "\n",
    "    iv = secrets.token_bytes(16)\n",
    "\n",
    "    ciphertext = encrypt_aes(chave, iv, conteudo)\n",
    "    fingerprint = ciphertext[-16:]  # Últimos 16 bytes\n",
    "\n",
    "    header = bytearray()\n",
    "    header += b'CF'                     # Identificador (2 bytes)\n",
    "    header += bytes([0x01])             # Versão (1 byte)\n",
    "    header += bytes([0x01])             # Algoritmo AES (1 byte)\n",
    "    header += bytes([0x01])             # Modo CBC (1 byte)\n",
    "    header += iv                        # IV (16 bytes)\n",
    "    header += fingerprint               # Fingerprint (16 bytes)\n",
    "    header += bytes(11)                 # Reservado (11 bytes)\n",
    "\n",
    "    if arquivo_metadata is None:\n",
    "        base_name = os.path.basename(arquivo_original)\n",
    "        arquivo_metadata = os.path.splitext(base_name)[0] + \".meta\"\n",
    "\n",
    "    with open(arquivo_metadata, \"wb\") as f:\n",
    "        f.write(header)\n",
    "\n",
    "    return arquivo_metadata"
   ],
   "id": "f41352fbb3088cc1",
   "outputs": [],
   "execution_count": 24
  },
  {
   "metadata": {
    "ExecuteTime": {
     "end_time": "2025-06-04T19:55:39.216951Z",
     "start_time": "2025-06-04T19:55:39.212510Z"
    }
   },
   "cell_type": "code",
   "source": [
    "def verificar_integridade(arquivo_original: str, arquivo_metadata: str, chave: bytes) -> bool:\n",
    "    \"\"\"\n",
    "    :param arquivo_original: Caminho do arquivo original\n",
    "    :param arquivo_metadata: Caminho do arquivo de metadados\n",
    "    :param chave: Chave AES usada na >>>geração<<<\n",
    "    \"\"\"\n",
    "\n",
    "    with open(arquivo_metadata, \"rb\") as f:\n",
    "        metadata = f.read(48)\n",
    "\n",
    "    ident = metadata[0:2]\n",
    "    version = metadata[2]\n",
    "    algo = metadata[3]\n",
    "    mode = metadata[4]\n",
    "    iv = metadata[5:21]\n",
    "    fingerprint_original = metadata[21:37]\n",
    "    reserved = metadata[37:48]\n",
    "\n",
    "    if ident != b'CF' or version != 0x01 or algo != 0x01 or mode != 0x01:\n",
    "        raise ValueError(\"Arquivo de metadados inválido ou corrompido\")\n",
    "\n",
    "    with open(arquivo_original, \"rb\") as f:\n",
    "        conteudo = f.read()\n",
    "\n",
    "    ciphertext = encrypt_aes(chave, iv, conteudo)\n",
    "    fingerprint_atual = ciphertext[-16:]\n",
    "\n",
    "\n",
    "    return fingerprint_original == fingerprint_atual"
   ],
   "id": "619567c26b3e152e",
   "outputs": [],
   "execution_count": 25
  },
  {
   "metadata": {
    "ExecuteTime": {
     "end_time": "2025-06-04T19:56:01.436516Z",
     "start_time": "2025-06-04T19:56:01.430010Z"
    }
   },
   "cell_type": "code",
   "source": [
    "nome_arquivo = \"arquivo_teste.pdf\"\n",
    "chave = bytes([1, 1, 1, 1, 2, 2, 2, 2, 3, 3, 3, 3, 4, 4, 4, 4])  # 16 bytes\n",
    "\n",
    "\n",
    "arquivo_meta = gerar_metadata(nome_arquivo, chave)\n",
    "print(f\"Arquivo de metadados gerado: {arquivo_meta}\")\n",
    "\n",
    "\n",
    "integro = verificar_integridade(nome_arquivo, arquivo_meta, chave)\n",
    "print(f\"Arquivo íntegro? {integro}\")\n",
    "\n",
    "\n",
    "with open(nome_arquivo, \"ab\") as f:\n",
    "    f.write(b\" MODIFICADO\")\n",
    "\n",
    "integro = verificar_integridade(nome_arquivo, arquivo_meta, chave)\n",
    "print(f\"Arquivo íntegro após modificação? {integro}\")"
   ],
   "id": "5e1e270a0257c0a2",
   "outputs": [
    {
     "name": "stdout",
     "output_type": "stream",
     "text": [
      "Arquivo de metadados gerado: arquivo_teste.meta\n",
      "Arquivo íntegro? True\n",
      "Arquivo íntegro após modificação? False\n"
     ]
    }
   ],
   "execution_count": 28
  }
 ],
 "metadata": {
  "kernelspec": {
   "display_name": "Python 3",
   "language": "python",
   "name": "python3"
  },
  "language_info": {
   "codemirror_mode": {
    "name": "ipython",
    "version": 2
   },
   "file_extension": ".py",
   "mimetype": "text/x-python",
   "name": "python",
   "nbconvert_exporter": "python",
   "pygments_lexer": "ipython2",
   "version": "2.7.6"
  }
 },
 "nbformat": 4,
 "nbformat_minor": 5
}
